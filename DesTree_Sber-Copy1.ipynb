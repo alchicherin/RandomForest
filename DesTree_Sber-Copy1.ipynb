{
 "cells": [
  {
   "cell_type": "code",
   "execution_count": 3,
   "metadata": {},
   "outputs": [],
   "source": [
    "import pandas as pd\n",
    "data_test = pd.read_csv('C:/projects/sber AI/ai/dota2_skill_test.csv')\n",
    "data_train = pd.read_csv('C:/projects/sber AI/ai/dota2_skill_train.csv')"
   ]
  },
  {
   "cell_type": "code",
   "execution_count": 4,
   "metadata": {},
   "outputs": [],
   "source": [
    "X = data_train.drop(columns=['skilled', 'player_team', 'winner_team'])\n",
    "X_test = data_test.drop(columns=['player_team', 'winner_team'])\n",
    "y = data_train['skilled']"
   ]
  },
  {
   "cell_type": "code",
   "execution_count": 5,
   "metadata": {},
   "outputs": [],
   "source": [
    "from sklearn.tree import DecisionTreeClassifier\n",
    "tree_classifier = DecisionTreeClassifier(max_depth=4).fit(X, y)"
   ]
  },
  {
   "cell_type": "code",
   "execution_count": 6,
   "metadata": {},
   "outputs": [
    {
     "name": "stdout",
     "output_type": "stream",
     "text": [
      "Train accuracy: 0.659701014308458\n"
     ]
    }
   ],
   "source": [
    "y_pred = tree_classifier.predict(X_test)\n",
    "df_submission_tree = pd.DataFrame({'skilled': y_pred}, index=data_test.index)\n",
    "#df_submission_tree.to_csv('C:/projects/sber AI/ai/answ_5.csv')\n",
    "#df_submission_tree\n",
    "\n",
    "from sklearn.metrics import accuracy_score\n",
    "\n",
    "print('Train accuracy:', accuracy_score(y, tree_classifier.predict(X)))"
   ]
  },
  {
   "cell_type": "code",
   "execution_count": 7,
   "metadata": {},
   "outputs": [],
   "source": [
    "new= X_test[['id','duration']]\n",
    "X_test['duration']=y_pred\n",
    "new = X_test[['id','duration']]\n",
    "new.to_csv('C:/projects/sber AI/ai/answ_6.csv',index = False)"
   ]
  },
  {
   "cell_type": "code",
   "execution_count": 16,
   "metadata": {},
   "outputs": [],
   "source": [
    "from sklearn.model_selection import cross_val_predict\n",
    "\n",
    "\n",
    "from sklearn.ensemble import RandomForestClassifier\n",
    "\n",
    "'''y_pred = cross_val_predict(\n",
    "    RandomForestClassifier(n_estimators=100),\n",
    "    X, y,\n",
    "    cv=5,\n",
    "    n_jobs=-1,\n",
    ")'''\n",
    "\n",
    "clf = RandomForestClassifier(n_estimators=110)\n",
    "clf.fit(X,y)\n",
    "y_pred = clf.predict(X_test)\n",
    "\n",
    "#print('Validation accuracy:', accuracy_score(data_train['skilled'], y_pred))"
   ]
  },
  {
   "cell_type": "code",
   "execution_count": 17,
   "metadata": {},
   "outputs": [
    {
     "name": "stderr",
     "output_type": "stream",
     "text": [
      "C:\\ProgramData\\Anaconda3\\lib\\site-packages\\ipykernel_launcher.py:4: SettingWithCopyWarning: \n",
      "A value is trying to be set on a copy of a slice from a DataFrame.\n",
      "Try using .loc[row_indexer,col_indexer] = value instead\n",
      "\n",
      "See the caveats in the documentation: http://pandas.pydata.org/pandas-docs/stable/indexing.html#indexing-view-versus-copy\n",
      "  after removing the cwd from sys.path.\n"
     ]
    }
   ],
   "source": [
    "#X_test['id']\n",
    "new2 = X_test[['id','duration']]\n",
    "new2\n",
    "new2['duration']=y_pred\n",
    "new2.to_csv('C:/projects/sber AI/ai/answ_7.csv',index = False)"
   ]
  },
  {
   "cell_type": "code",
   "execution_count": null,
   "metadata": {},
   "outputs": [],
   "source": []
  }
 ],
 "metadata": {
  "kernelspec": {
   "display_name": "Python 3",
   "language": "python",
   "name": "python3"
  },
  "language_info": {
   "codemirror_mode": {
    "name": "ipython",
    "version": 3
   },
   "file_extension": ".py",
   "mimetype": "text/x-python",
   "name": "python",
   "nbconvert_exporter": "python",
   "pygments_lexer": "ipython3",
   "version": "3.6.5"
  }
 },
 "nbformat": 4,
 "nbformat_minor": 2
}
